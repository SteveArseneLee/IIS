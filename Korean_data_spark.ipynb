{
 "cells": [
  {
   "cell_type": "code",
   "execution_count": 25,
   "metadata": {},
   "outputs": [
    {
     "name": "stdout",
     "output_type": "stream",
     "text": [
      "KG케미칼 의 상한가에 대해 분석합니다\n"
     ]
    }
   ],
   "source": [
    "from pyspark.sql import SparkSession\n",
    "# import pandas as pd\n",
    "import os\n",
    "\n",
    "spark = SparkSession.builder.appName(\"Korean_data_prac\").getOrCreate()\n",
    "\n",
    "directory = \"/home/steve/Capstone2/Korean_stock/Korean_stock_data\"\n",
    "filename = \"OCI.csv\"\n",
    "data = spark.read.csv(f\"file:///{directory}/{filename}\", inferSchema = True, header = True)\n",
    "\n",
    "f = filename.split('.')\n",
    "print(f[0],\"의 상한가에 대해 분석합니다\")\n",
    "\n",
    "data.createOrReplaceTempView(f[0])\n",
    "\n",
    "query = f\"\"\"\n",
    "SELECT\n",
    "    *\n",
    "FROM\n",
    "    {f[0]}\n",
    "\"\"\"\n",
    "data_df = spark.sql(query)"
   ]
  },
  {
   "cell_type": "code",
   "execution_count": 5,
   "metadata": {},
   "outputs": [
    {
     "name": "stdout",
     "output_type": "stream",
     "text": [
      "22/11/16 20:09:46 WARN SparkSession: Using an existing Spark session; only runtime SQL configurations will take effect.\n",
      "HDC현대산업개발 의 종가에 대해 분석합니다\n"
     ]
    },
    {
     "ename": "AnalysisException",
     "evalue": "Column 'Adj' does not exist. Did you mean one of the following? [hdc.Low, hdc.Date, hdc.High, hdc.Open, hdc.Close, hdc.Volume, hdc.Adj Close]; line 3 pos 12;\n'Project ['Adj AS Close#1398]\n+- SubqueryAlias hdc\n   +- View (`HDC`, [Date#1384,Open#1385,High#1386,Low#1387,Close#1388,Adj Close#1389,Volume#1390])\n      +- Relation [Date#1384,Open#1385,High#1386,Low#1387,Close#1388,Adj Close#1389,Volume#1390] csv\n",
     "output_type": "error",
     "traceback": [
      "\u001b[0;31m---------------------------------------------------------------------------\u001b[0m",
      "\u001b[0;31mAnalysisException\u001b[0m                         Traceback (most recent call last)",
      "\u001b[1;32m/home/steve/Capstone2/Korean_data_spark.ipynb 셀 2\u001b[0m in \u001b[0;36m<cell line: 9>\u001b[0;34m()\u001b[0m\n\u001b[1;32m     <a href='vscode-notebook-cell://wsl%2Bubuntu-20.04/home/steve/Capstone2/Korean_data_spark.ipynb#W1sdnNjb2RlLXJlbW90ZQ%3D%3D?line=23'>24</a>\u001b[0m data\u001b[39m.\u001b[39mcreateOrReplaceTempView(name)\n\u001b[1;32m     <a href='vscode-notebook-cell://wsl%2Bubuntu-20.04/home/steve/Capstone2/Korean_data_spark.ipynb#W1sdnNjb2RlLXJlbW90ZQ%3D%3D?line=25'>26</a>\u001b[0m query \u001b[39m=\u001b[39m \u001b[39mf\u001b[39m\u001b[39m\"\"\"\u001b[39m\n\u001b[1;32m     <a href='vscode-notebook-cell://wsl%2Bubuntu-20.04/home/steve/Capstone2/Korean_data_spark.ipynb#W1sdnNjb2RlLXJlbW90ZQ%3D%3D?line=26'>27</a>\u001b[0m \u001b[39mSELECT\u001b[39m\n\u001b[1;32m     <a href='vscode-notebook-cell://wsl%2Bubuntu-20.04/home/steve/Capstone2/Korean_data_spark.ipynb#W1sdnNjb2RlLXJlbW90ZQ%3D%3D?line=27'>28</a>\u001b[0m \u001b[39m    Adj Close\u001b[39m\n\u001b[1;32m     <a href='vscode-notebook-cell://wsl%2Bubuntu-20.04/home/steve/Capstone2/Korean_data_spark.ipynb#W1sdnNjb2RlLXJlbW90ZQ%3D%3D?line=28'>29</a>\u001b[0m \u001b[39mFROM\u001b[39m\n\u001b[1;32m     <a href='vscode-notebook-cell://wsl%2Bubuntu-20.04/home/steve/Capstone2/Korean_data_spark.ipynb#W1sdnNjb2RlLXJlbW90ZQ%3D%3D?line=29'>30</a>\u001b[0m \u001b[39m    \u001b[39m\u001b[39m{\u001b[39;00mname\u001b[39m}\u001b[39;00m\n\u001b[1;32m     <a href='vscode-notebook-cell://wsl%2Bubuntu-20.04/home/steve/Capstone2/Korean_data_spark.ipynb#W1sdnNjb2RlLXJlbW90ZQ%3D%3D?line=30'>31</a>\u001b[0m \u001b[39m\u001b[39m\u001b[39m\"\"\"\u001b[39m\n\u001b[0;32m---> <a href='vscode-notebook-cell://wsl%2Bubuntu-20.04/home/steve/Capstone2/Korean_data_spark.ipynb#W1sdnNjb2RlLXJlbW90ZQ%3D%3D?line=31'>32</a>\u001b[0m data_df \u001b[39m=\u001b[39m spark\u001b[39m.\u001b[39;49msql(query)\n\u001b[1;32m     <a href='vscode-notebook-cell://wsl%2Bubuntu-20.04/home/steve/Capstone2/Korean_data_spark.ipynb#W1sdnNjb2RlLXJlbW90ZQ%3D%3D?line=34'>35</a>\u001b[0m \u001b[39m# data_dir=\"/home/ubuntu/IIS/Spark_Result/Close\"\u001b[39;00m\n\u001b[1;32m     <a href='vscode-notebook-cell://wsl%2Bubuntu-20.04/home/steve/Capstone2/Korean_data_spark.ipynb#W1sdnNjb2RlLXJlbW90ZQ%3D%3D?line=35'>36</a>\u001b[0m data_dir\u001b[39m=\u001b[39m\u001b[39m\"\u001b[39m\u001b[39m/home/steve/Capstone2/Spark_Result/Close\u001b[39m\u001b[39m\"\u001b[39m\n",
      "File \u001b[0;32m~/.local/lib/python3.8/site-packages/pyspark/sql/session.py:1034\u001b[0m, in \u001b[0;36mSparkSession.sql\u001b[0;34m(self, sqlQuery, **kwargs)\u001b[0m\n\u001b[1;32m   1032\u001b[0m     sqlQuery \u001b[39m=\u001b[39m formatter\u001b[39m.\u001b[39mformat(sqlQuery, \u001b[39m*\u001b[39m\u001b[39m*\u001b[39mkwargs)\n\u001b[1;32m   1033\u001b[0m \u001b[39mtry\u001b[39;00m:\n\u001b[0;32m-> 1034\u001b[0m     \u001b[39mreturn\u001b[39;00m DataFrame(\u001b[39mself\u001b[39;49m\u001b[39m.\u001b[39;49m_jsparkSession\u001b[39m.\u001b[39;49msql(sqlQuery), \u001b[39mself\u001b[39m)\n\u001b[1;32m   1035\u001b[0m \u001b[39mfinally\u001b[39;00m:\n\u001b[1;32m   1036\u001b[0m     \u001b[39mif\u001b[39;00m \u001b[39mlen\u001b[39m(kwargs) \u001b[39m>\u001b[39m \u001b[39m0\u001b[39m:\n",
      "File \u001b[0;32m~/.local/lib/python3.8/site-packages/py4j/java_gateway.py:1321\u001b[0m, in \u001b[0;36mJavaMember.__call__\u001b[0;34m(self, *args)\u001b[0m\n\u001b[1;32m   1315\u001b[0m command \u001b[39m=\u001b[39m proto\u001b[39m.\u001b[39mCALL_COMMAND_NAME \u001b[39m+\u001b[39m\\\n\u001b[1;32m   1316\u001b[0m     \u001b[39mself\u001b[39m\u001b[39m.\u001b[39mcommand_header \u001b[39m+\u001b[39m\\\n\u001b[1;32m   1317\u001b[0m     args_command \u001b[39m+\u001b[39m\\\n\u001b[1;32m   1318\u001b[0m     proto\u001b[39m.\u001b[39mEND_COMMAND_PART\n\u001b[1;32m   1320\u001b[0m answer \u001b[39m=\u001b[39m \u001b[39mself\u001b[39m\u001b[39m.\u001b[39mgateway_client\u001b[39m.\u001b[39msend_command(command)\n\u001b[0;32m-> 1321\u001b[0m return_value \u001b[39m=\u001b[39m get_return_value(\n\u001b[1;32m   1322\u001b[0m     answer, \u001b[39mself\u001b[39;49m\u001b[39m.\u001b[39;49mgateway_client, \u001b[39mself\u001b[39;49m\u001b[39m.\u001b[39;49mtarget_id, \u001b[39mself\u001b[39;49m\u001b[39m.\u001b[39;49mname)\n\u001b[1;32m   1324\u001b[0m \u001b[39mfor\u001b[39;00m temp_arg \u001b[39min\u001b[39;00m temp_args:\n\u001b[1;32m   1325\u001b[0m     temp_arg\u001b[39m.\u001b[39m_detach()\n",
      "File \u001b[0;32m~/.local/lib/python3.8/site-packages/pyspark/sql/utils.py:196\u001b[0m, in \u001b[0;36mcapture_sql_exception.<locals>.deco\u001b[0;34m(*a, **kw)\u001b[0m\n\u001b[1;32m    192\u001b[0m converted \u001b[39m=\u001b[39m convert_exception(e\u001b[39m.\u001b[39mjava_exception)\n\u001b[1;32m    193\u001b[0m \u001b[39mif\u001b[39;00m \u001b[39mnot\u001b[39;00m \u001b[39misinstance\u001b[39m(converted, UnknownException):\n\u001b[1;32m    194\u001b[0m     \u001b[39m# Hide where the exception came from that shows a non-Pythonic\u001b[39;00m\n\u001b[1;32m    195\u001b[0m     \u001b[39m# JVM exception message.\u001b[39;00m\n\u001b[0;32m--> 196\u001b[0m     \u001b[39mraise\u001b[39;00m converted \u001b[39mfrom\u001b[39;00m \u001b[39mNone\u001b[39m\n\u001b[1;32m    197\u001b[0m \u001b[39melse\u001b[39;00m:\n\u001b[1;32m    198\u001b[0m     \u001b[39mraise\u001b[39;00m\n",
      "\u001b[0;31mAnalysisException\u001b[0m: Column 'Adj' does not exist. Did you mean one of the following? [hdc.Low, hdc.Date, hdc.High, hdc.Open, hdc.Close, hdc.Volume, hdc.Adj Close]; line 3 pos 12;\n'Project ['Adj AS Close#1398]\n+- SubqueryAlias hdc\n   +- View (`HDC`, [Date#1384,Open#1385,High#1386,Low#1387,Close#1388,Adj Close#1389,Volume#1390])\n      +- Relation [Date#1384,Open#1385,High#1386,Low#1387,Close#1388,Adj Close#1389,Volume#1390] csv\n"
     ]
    }
   ],
   "source": [
    "import os\n",
    "from pyspark.sql import SparkSession\n",
    "\n",
    "MAX_MEMORY=\"5g\"\n",
    "# EC2\n",
    "# dir_path = \"/home/ubuntu/IIS/Korean_stock/Korean_stock_data\"\n",
    "dir_path = \"/home/steve/Capstone2/Korean_stock/Korean_stock_data\"\n",
    "\n",
    "for (root, directories, files) in os.walk(dir_path):\n",
    "    for d in directories:\n",
    "        d_path = os.path.join(root, d)\n",
    "        print(d_path)\n",
    "\n",
    "    for file in files:\n",
    "        f = file.split('.')\n",
    "        spark = SparkSession.builder.appName(f\"Korean-stock-Open-{f[0]}\")\\\n",
    "                .config(\"spark.executor.memory\", MAX_MEMORY)\\\n",
    "                .config(\"spark.driver.memory\", MAX_MEMORY)\\\n",
    "                .getOrCreate()\n",
    "        print(f[0],\"의 종가에 대해 분석합니다\")\n",
    "        data = spark.read.csv(f\"file:///{dir_path}/{file}\", inferSchema = True, header = True)\n",
    "        name = f[0].encode('utf-8').decode('ascii', 'ignore')\n",
    "        name = name.strip()\n",
    "        data.createOrReplaceTempView(name)\n",
    "        \n",
    "        query = f\"\"\"\n",
    "        SELECT\n",
    "            Adj Close\n",
    "        FROM\n",
    "            {name}\n",
    "        \"\"\"\n",
    "        data_df = spark.sql(query)\n",
    "        \n",
    "        \n",
    "        # data_dir=\"/home/ubuntu/IIS/Spark_Result/Close\"\n",
    "        data_dir=\"/home/steve/Capstone2/Spark_Result/Close\"\n",
    "        \n",
    "        data_df.write.format(\"json\").mode('overwrite').save(f\"{data_dir}/{f[0]}\")"
   ]
  },
  {
   "cell_type": "code",
   "execution_count": null,
   "metadata": {},
   "outputs": [],
   "source": [
    "def files():\n",
    "    for (root, directories, files) in os.walk(dir_path):\n",
    "        for d in directories:\n",
    "            d_path = os.path.join(root, d)\n",
    "            print(d_path)\n",
    "\n",
    "        for file in files:\n",
    "            # file_path = os.path.join(root, file)\n",
    "            # print(file_path)\n",
    "            print(file)"
   ]
  },
  {
   "cell_type": "code",
   "execution_count": 5,
   "metadata": {},
   "outputs": [
    {
     "name": "stdout",
     "output_type": "stream",
     "text": [
      "22/11/08 16:13:27 WARN SparkSession: Using an existing Spark session; only runtime SQL configurations will take effect.\n"
     ]
    },
    {
     "ename": "NameError",
     "evalue": "name 'dir_path' is not defined",
     "output_type": "error",
     "traceback": [
      "\u001b[0;31m---------------------------------------------------------------------------\u001b[0m",
      "\u001b[0;31mNameError\u001b[0m                                 Traceback (most recent call last)",
      "\u001b[1;32m/home/steve/Capstone2/Korean_data_spark.ipynb 셀 3\u001b[0m in \u001b[0;36m<cell line: 8>\u001b[0;34m()\u001b[0m\n\u001b[1;32m      <a href='vscode-notebook-cell://wsl%2Bubuntu-20.04/home/steve/Capstone2/Korean_data_spark.ipynb#W2sdnNjb2RlLXJlbW90ZQ%3D%3D?line=4'>5</a>\u001b[0m spark \u001b[39m=\u001b[39m SparkSession\u001b[39m.\u001b[39mbuilder\u001b[39m.\u001b[39mappName(\u001b[39m\"\u001b[39m\u001b[39mKorean_stock_prac\u001b[39m\u001b[39m\"\u001b[39m)\u001b[39m.\u001b[39mgetOrCreate()\n\u001b[1;32m      <a href='vscode-notebook-cell://wsl%2Bubuntu-20.04/home/steve/Capstone2/Korean_data_spark.ipynb#W2sdnNjb2RlLXJlbW90ZQ%3D%3D?line=6'>7</a>\u001b[0m directory \u001b[39m=\u001b[39m \u001b[39m\"\u001b[39m\u001b[39m/home/steve/Capstone2/Korean_stock/Korean_stock_data\u001b[39m\u001b[39m\"\u001b[39m\n\u001b[0;32m----> <a href='vscode-notebook-cell://wsl%2Bubuntu-20.04/home/steve/Capstone2/Korean_data_spark.ipynb#W2sdnNjb2RlLXJlbW90ZQ%3D%3D?line=7'>8</a>\u001b[0m \u001b[39mfor\u001b[39;00m (root, directories, files) \u001b[39min\u001b[39;00m os\u001b[39m.\u001b[39mwalk(dir_path):\n\u001b[1;32m      <a href='vscode-notebook-cell://wsl%2Bubuntu-20.04/home/steve/Capstone2/Korean_data_spark.ipynb#W2sdnNjb2RlLXJlbW90ZQ%3D%3D?line=8'>9</a>\u001b[0m         \u001b[39mfor\u001b[39;00m d \u001b[39min\u001b[39;00m directories:\n\u001b[1;32m     <a href='vscode-notebook-cell://wsl%2Bubuntu-20.04/home/steve/Capstone2/Korean_data_spark.ipynb#W2sdnNjb2RlLXJlbW90ZQ%3D%3D?line=9'>10</a>\u001b[0m             d_path \u001b[39m=\u001b[39m os\u001b[39m.\u001b[39mpath\u001b[39m.\u001b[39mjoin(root, d)\n",
      "\u001b[0;31mNameError\u001b[0m: name 'dir_path' is not defined"
     ]
    }
   ],
   "source": [
    "from pyspark.sql import SparkSession\n",
    "# import pandas as pd\n",
    "import os\n",
    "\n",
    "spark = SparkSession.builder.appName(\"Korean_stock_prac\").getOrCreate()\n",
    "\n",
    "directory = \"/home/steve/Capstone2/Korean_stock/Korean_stock_data\"\n",
    "for (root, directories, files) in os.walk(dir_path):\n",
    "        for d in directories:\n",
    "            d_path = os.path.join(root, d)\n",
    "            print(d_path)\n",
    "\n",
    "        for filename in files:\n",
    "            print(filename)\n",
    "            # file_path = os.path.join(root, file)\n",
    "            # print(file_path)\n",
    "            # print(file)\n",
    "            # data = spark.read.csv(f\"file:///{directory}/{filename}\", inferSchema = True, header = True)\n",
    "            # data.show(1)"
   ]
  },
  {
   "cell_type": "code",
   "execution_count": 1,
   "metadata": {},
   "outputs": [
    {
     "name": "stdout",
     "output_type": "stream",
     "text": [
      "22/11/08 16:11:15 WARN Utils: Your hostname, LAPTOP-PAHAQHCQ resolves to a loopback address: 127.0.1.1; using 172.20.6.248 instead (on interface eth0)\n",
      "22/11/08 16:11:15 WARN Utils: Set SPARK_LOCAL_IP if you need to bind to another address\n"
     ]
    },
    {
     "name": "stderr",
     "output_type": "stream",
     "text": [
      "Setting default log level to \"WARN\".\n",
      "To adjust logging level use sc.setLogLevel(newLevel). For SparkR, use setLogLevel(newLevel).\n"
     ]
    },
    {
     "name": "stdout",
     "output_type": "stream",
     "text": [
      "22/11/08 16:11:16 WARN NativeCodeLoader: Unable to load native-hadoop library for your platform... using builtin-java classes where applicable\n"
     ]
    }
   ],
   "source": [
    "from pyspark.sql import SparkSession\n",
    "# import pandas as pd\n",
    "import os\n",
    "\n",
    "spark = SparkSession.builder.appName(\"Korean_data_prac\").getOrCreate()\n",
    "\n",
    "directory = \"/home/steve/Capstone2/Korean_stock/Korean_stock_data\"\n",
    "filename = \"DL.csv\"\n",
    "data = spark.read.csv(f\"file:///{directory}/{filename}\", inferSchema = True, header = True)"
   ]
  },
  {
   "cell_type": "code",
   "execution_count": 28,
   "metadata": {},
   "outputs": [
    {
     "name": "stdout",
     "output_type": "stream",
     "text": [
      "Where there is a will there is a way <class 'str'>\n"
     ]
    }
   ],
   "source": [
    "text = \"Where there is a will there is a way의 의미는 뜻이 있는 곳엔 길이 있다이다\"\n",
    "f[0] = f[0].encode('utf-8').decode('ascii', 'ignore')\n",
    "f[0] = f[0].strip()\n",
    "print(text, type(text))"
   ]
  },
  {
   "cell_type": "code",
   "execution_count": 18,
   "metadata": {},
   "outputs": [
    {
     "name": "stdout",
     "output_type": "stream",
     "text": [
      "+-------------------+-------+-------+-------+-------+------------+------+\n",
      "|               Date|   Open|   High|    Low|  Close|   Adj Close|Volume|\n",
      "+-------------------+-------+-------+-------+-------+------------+------+\n",
      "|2020-01-02 00:00:00|90600.0|90700.0|87600.0|87800.0|83818.351563|134537|\n",
      "|2020-01-03 00:00:00|87800.0|88700.0|87400.0|87800.0|83818.351563|101282|\n",
      "|2020-01-06 00:00:00|87000.0|87400.0|83500.0|84100.0|80286.140625|235620|\n",
      "|2020-01-07 00:00:00|85000.0|86000.0|83500.0|85200.0|81336.257813|146068|\n",
      "|2020-01-08 00:00:00|83700.0|84100.0|81500.0|82600.0|78854.171875|172508|\n",
      "+-------------------+-------+-------+-------+-------+------------+------+\n",
      "only showing top 5 rows\n",
      "\n"
     ]
    }
   ],
   "source": [
    "data_df.show(5)"
   ]
  },
  {
   "cell_type": "code",
   "execution_count": 8,
   "metadata": {},
   "outputs": [
    {
     "name": "stdout",
     "output_type": "stream",
     "text": [
      "+-------+-------+-------+-------+--------+-------------+\n",
      "|   High|    Low|   Open|  Close|  Volume|    Adj Close|\n",
      "+-------+-------+-------+-------+--------+-------------+\n",
      "|87300.0|83400.0|83500.0|87000.0|383103.0|75170.1796875|\n",
      "|91300.0|86500.0|89000.0|89500.0|613273.0|77330.2421875|\n",
      "|91200.0|88100.0|89500.0|88700.0|193552.0|76639.0234375|\n",
      "|93200.0|89100.0|89100.0|92000.0|355859.0|79490.3046875|\n",
      "|92500.0|90400.0|91500.0|92500.0|144868.0|79922.3203125|\n",
      "+-------+-------+-------+-------+--------+-------------+\n",
      "only showing top 5 rows\n",
      "\n"
     ]
    }
   ],
   "source": [
    "data.show(5)"
   ]
  },
  {
   "cell_type": "code",
   "execution_count": 12,
   "metadata": {},
   "outputs": [
    {
     "name": "stdout",
     "output_type": "stream",
     "text": [
      "DL\n"
     ]
    }
   ],
   "source": [
    "f = filename.split('.')\n",
    "print(f[0])"
   ]
  },
  {
   "cell_type": "code",
   "execution_count": 13,
   "metadata": {},
   "outputs": [],
   "source": [
    "data.createOrReplaceTempView(f[0])"
   ]
  },
  {
   "cell_type": "code",
   "execution_count": 14,
   "metadata": {},
   "outputs": [
    {
     "name": "stdout",
     "output_type": "stream",
     "text": [
      "+-------+\n",
      "|   HIGH|\n",
      "+-------+\n",
      "|87300.0|\n",
      "|91300.0|\n",
      "|91200.0|\n",
      "|93200.0|\n",
      "|92500.0|\n",
      "|92900.0|\n",
      "|91400.0|\n",
      "|88700.0|\n",
      "|87000.0|\n",
      "|85500.0|\n",
      "|83000.0|\n",
      "|83600.0|\n",
      "|84300.0|\n",
      "|82300.0|\n",
      "|82100.0|\n",
      "|82800.0|\n",
      "|82000.0|\n",
      "|81900.0|\n",
      "|84000.0|\n",
      "|84600.0|\n",
      "+-------+\n",
      "only showing top 20 rows\n",
      "\n"
     ]
    }
   ],
   "source": [
    "spark.sql(f\"SELECT HIGH FROM {f[0]}\").show()"
   ]
  }
 ],
 "metadata": {
  "kernelspec": {
   "display_name": "Python 3.8.10 64-bit",
   "language": "python",
   "name": "python3"
  },
  "language_info": {
   "codemirror_mode": {
    "name": "ipython",
    "version": 3
   },
   "file_extension": ".py",
   "mimetype": "text/x-python",
   "name": "python",
   "nbconvert_exporter": "python",
   "pygments_lexer": "ipython3",
   "version": "3.8.10"
  },
  "orig_nbformat": 4,
  "vscode": {
   "interpreter": {
    "hash": "916dbcbb3f70747c44a77c7bcd40155683ae19c65e1c03b4aa3499c5328201f1"
   }
  }
 },
 "nbformat": 4,
 "nbformat_minor": 2
}
