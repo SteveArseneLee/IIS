{
 "cells": [
  {
   "cell_type": "code",
   "execution_count": 25,
   "metadata": {},
   "outputs": [
    {
     "name": "stdout",
     "output_type": "stream",
     "text": [
      "KG케미칼 의 상한가에 대해 분석합니다\n"
     ]
    }
   ],
   "source": [
    "from pyspark.sql import SparkSession\n",
    "# import pandas as pd\n",
    "import os\n",
    "\n",
    "spark = SparkSession.builder.appName(\"Korean_data_prac\").getOrCreate()\n",
    "\n",
    "directory = \"/home/steve/Capstone2/Korean_stock/Korean_stock_data\"\n",
    "filename = \"OCI.csv\"\n",
    "data = spark.read.csv(f\"file:///{directory}/{filename}\", inferSchema = True, header = True)\n",
    "\n",
    "f = filename.split('.')\n",
    "print(f[0],\"의 상한가에 대해 분석합니다\")\n",
    "\n",
    "data.createOrReplaceTempView(f[0])\n",
    "\n",
    "query = f\"\"\"\n",
    "SELECT\n",
    "    *\n",
    "FROM\n",
    "    {f[0]}\n",
    "\"\"\"\n",
    "data_df = spark.sql(query)"
   ]
  },
  {
   "cell_type": "code",
   "execution_count": 33,
   "metadata": {},
   "outputs": [
    {
     "name": "stdout",
     "output_type": "stream",
     "text": [
      "22/11/08 16:38:19 WARN SparkSession: Using an existing Spark session; only runtime SQL configurations will take effect.\n",
      "HDC현대산업개발 의 상한가에 대해 분석합니다\n",
      "+-------------------+------------+\n",
      "|               Date|        High|\n",
      "+-------------------+------------+\n",
      "|2020-01-02 00:00:00|23745.667969|\n",
      "+-------------------+------------+\n",
      "only showing top 1 row\n",
      "\n",
      "22/11/08 16:38:20 WARN SparkSession: Using an existing Spark session; only runtime SQL configurations will take effect.\n",
      "LX하우시스 의 상한가에 대해 분석합니다\n",
      "+-------------------+-------+\n",
      "|               Date|   High|\n",
      "+-------------------+-------+\n",
      "|2020-01-02 00:00:00|55800.0|\n",
      "+-------------------+-------+\n",
      "only showing top 1 row\n",
      "\n",
      "22/11/08 16:38:20 WARN SparkSession: Using an existing Spark session; only runtime SQL configurations will take effect.\n",
      "DL 의 상한가에 대해 분석합니다\n",
      "+-------------------+-------+\n",
      "|               Date|   High|\n",
      "+-------------------+-------+\n",
      "|2020-01-02 00:00:00|90700.0|\n",
      "+-------------------+-------+\n",
      "only showing top 1 row\n",
      "\n",
      "LG이노텍 의 상한가에 대해 분석합니다\n",
      "22/11/08 16:38:20 WARN SparkSession: Using an existing Spark session; only runtime SQL configurations will take effect.\n",
      "+-------------------+--------+\n",
      "|               Date|    High|\n",
      "+-------------------+--------+\n",
      "|2020-01-02 00:00:00|141500.0|\n",
      "+-------------------+--------+\n",
      "only showing top 1 row\n",
      "\n",
      "22/11/08 16:38:20 WARN SparkSession: Using an existing Spark session; only runtime SQL configurations will take effect.\n",
      "LG헬로비전 의 상한가에 대해 분석합니다\n",
      "+-------------------+------+\n",
      "|               Date|  High|\n",
      "+-------------------+------+\n",
      "|2020-01-02 00:00:00|6060.0|\n",
      "+-------------------+------+\n",
      "only showing top 1 row\n",
      "\n",
      "KSS해운22/11/08 16:38:20 WARN SparkSession: Using an existing Spark session; only runtime SQL configurations will take effect.\n",
      " 의 상한가에 대해 분석합니다\n",
      "+-------------------+------+\n",
      "|               Date|  High|\n",
      "+-------------------+------+\n",
      "|2020-01-02 00:00:00|7820.0|\n",
      "+-------------------+------+\n",
      "only showing top 1 row\n",
      "\n",
      "22/11/08 16:38:20 WARN SparkSession: Using an existing Spark session; only runtime SQL configurations will take effect.\n",
      "MH에탄올 의 상한가에 대해 분석합니다\n",
      "+-------------------+------+\n",
      "|               Date|  High|\n",
      "+-------------------+------+\n",
      "|2020-01-02 00:00:00|6110.0|\n",
      "+-------------------+------+\n",
      "only showing top 1 row\n",
      "\n",
      "22/11/08 16:38:20 WARN SparkSession: Using an existing Spark session; only runtime SQL configurations will take effect.\n",
      "KTis 의 상한가에 대해 분석합니다\n",
      "+-------------------+------+\n",
      "|               Date|  High|\n",
      "+-------------------+------+\n",
      "|2020-01-02 00:00:00|2315.0|\n",
      "+-------------------+------+\n",
      "only showing top 1 row\n",
      "\n",
      "22/11/08 16:38:20 WARN SparkSession: Using an existing Spark session; only runtime SQL configurations will take effect.\n",
      "DRB동일 의 상한가에 대해 분석합니다\n",
      "+-------------------+------+\n",
      "|               Date|  High|\n",
      "+-------------------+------+\n",
      "|2020-01-02 00:00:00|5320.0|\n",
      "+-------------------+------+\n",
      "only showing top 1 row\n",
      "\n",
      "GS 의 상한가에 대해 분석합니다\n",
      "22/11/08 16:38:20 WARN SparkSession: Using an existing Spark session; only runtime SQL configurations will take effect.\n",
      "+-------------------+-------+\n",
      "|               Date|   High|\n",
      "+-------------------+-------+\n",
      "|2020-01-02 00:00:00|51400.0|\n",
      "+-------------------+-------+\n",
      "only showing top 1 row\n",
      "\n",
      "22/11/08 16:38:20 WARN SparkSession: Using an existing Spark session; only runtime SQL configurations will take effect.\n",
      "DSR 의 상한가에 대해 분석합니다\n",
      "+-------------------+------+\n",
      "|               Date|  High|\n",
      "+-------------------+------+\n",
      "|2020-01-02 00:00:00|4665.0|\n",
      "+-------------------+------+\n",
      "only showing top 1 row\n",
      "\n",
      "22/11/08 16:38:21 WARN SparkSession: Using an existing Spark session; only runtime SQL configurations will take effect.\n",
      "LX홀딩스 의 상한가에 대해 분석합니다\n",
      "+-------------------+-------+\n",
      "|               Date|   High|\n",
      "+-------------------+-------+\n",
      "|2021-05-27 00:00:00|14300.0|\n",
      "+-------------------+-------+\n",
      "only showing top 1 row\n",
      "\n",
      "KPX케미칼 의 상한가에 대해 분석합니다\n",
      "22/11/08 16:38:21 WARN SparkSession: Using an existing Spark session; only runtime SQL configurations will take effect.\n",
      "+-------------------+-------+\n",
      "|               Date|   High|\n",
      "+-------------------+-------+\n",
      "|2020-01-02 00:00:00|55800.0|\n",
      "+-------------------+-------+\n",
      "only showing top 1 row\n",
      "\n",
      "22/11/08 16:38:21 WARN SparkSession: Using an existing Spark session; only runtime SQL configurations will take effect.\n",
      "OCI 의 상한가에 대해 분석합니다\n",
      "+-------------------+-------+\n",
      "|               Date|   High|\n",
      "+-------------------+-------+\n",
      "|2020-01-02 00:00:00|63200.0|\n",
      "+-------------------+-------+\n",
      "only showing top 1 row\n",
      "\n",
      "22/11/08 16:38:21 WARN SparkSession: Using an existing Spark session; only runtime SQL configurations will take effect.\n",
      "KG케미칼 의 상한가에 대해 분석합니다\n",
      "+-------------------+-------+\n",
      "|               Date|   High|\n",
      "+-------------------+-------+\n",
      "|2020-01-02 00:00:00|12000.0|\n",
      "+-------------------+-------+\n",
      "only showing top 1 row\n",
      "\n"
     ]
    }
   ],
   "source": [
    "import os\n",
    "from pyspark.sql import SparkSession\n",
    "\n",
    "MAX_MEMORY=\"5g\"\n",
    "dir_path = \"/home/steve/Capstone2/Korean_stock/Korean_stock_data\"\n",
    "\n",
    "for (root, directories, files) in os.walk(dir_path):\n",
    "    for d in directories:\n",
    "        d_path = os.path.join(root, d)\n",
    "        print(d_path)\n",
    "\n",
    "    for file in files:\n",
    "        data = spark.read.csv(f\"file:///{dir_path}/{file}\", inferSchema = True, header = True)\n",
    "        \n",
    "        f = file.split('.')\n",
    "        # print(file, f[0])\n",
    "        spark = SparkSession.builder.appName(f\"Korean-stock-High-{f[0]}\")\\\n",
    "                .config(\"spark.executor.memory\", MAX_MEMORY)\\\n",
    "                .config(\"spark.driver.memory\", MAX_MEMORY)\\\n",
    "                .getOrCreate()\n",
    "        print(f[0],\"의 상한가에 대해 분석합니다\")\n",
    "        f[0] = f[0].encode('utf-8').decode('ascii', 'ignore')\n",
    "        f[0] = f[0].strip()\n",
    "        data.createOrReplaceTempView(f\"{f[0]}\")\n",
    "        \n",
    "        query = f\"\"\"\n",
    "        SELECT\n",
    "            Date, High\n",
    "        FROM\n",
    "            {f[0]}\n",
    "        \"\"\"\n",
    "        data_df = spark.sql(query)\n",
    "        data_df.show(1)\n",
    "        # spark = SparkSession.builder.appName(\"Korean_data_prac\").getOrCreate()\n",
    "        # file_path = os.path.join(root, file)\n",
    "        # # print(file_path)\n",
    "        # data = spark.read.csv(f\"file:///{dir_path}/{file}\", inferSchema = True, header = True)\n",
    "\n",
    "        \n",
    "        # print(f[0],\"의 상한가에 대해 분석합니다\")\n",
    "\n",
    "        # data.createOrReplaceTempView(f[0])\n",
    "\n",
    "        # query = f\"\"\"\n",
    "        # SELECT\n",
    "        #     Date, High\n",
    "        # FROM\n",
    "        #     {f[0]}\n",
    "        # \"\"\"\n",
    "        # # spark.sql(f\"SELECT DATE, HIGH FROM {f[0]}\").show()\n",
    "        # data_df = spark.sql(query)"
   ]
  },
  {
   "cell_type": "code",
   "execution_count": null,
   "metadata": {},
   "outputs": [],
   "source": [
    "def files():\n",
    "    for (root, directories, files) in os.walk(dir_path):\n",
    "        for d in directories:\n",
    "            d_path = os.path.join(root, d)\n",
    "            print(d_path)\n",
    "\n",
    "        for file in files:\n",
    "            # file_path = os.path.join(root, file)\n",
    "            # print(file_path)\n",
    "            print(file)"
   ]
  },
  {
   "cell_type": "code",
   "execution_count": 5,
   "metadata": {},
   "outputs": [
    {
     "name": "stdout",
     "output_type": "stream",
     "text": [
      "22/11/08 16:13:27 WARN SparkSession: Using an existing Spark session; only runtime SQL configurations will take effect.\n"
     ]
    },
    {
     "ename": "NameError",
     "evalue": "name 'dir_path' is not defined",
     "output_type": "error",
     "traceback": [
      "\u001b[0;31m---------------------------------------------------------------------------\u001b[0m",
      "\u001b[0;31mNameError\u001b[0m                                 Traceback (most recent call last)",
      "\u001b[1;32m/home/steve/Capstone2/Korean_data_spark.ipynb 셀 3\u001b[0m in \u001b[0;36m<cell line: 8>\u001b[0;34m()\u001b[0m\n\u001b[1;32m      <a href='vscode-notebook-cell://wsl%2Bubuntu-20.04/home/steve/Capstone2/Korean_data_spark.ipynb#W2sdnNjb2RlLXJlbW90ZQ%3D%3D?line=4'>5</a>\u001b[0m spark \u001b[39m=\u001b[39m SparkSession\u001b[39m.\u001b[39mbuilder\u001b[39m.\u001b[39mappName(\u001b[39m\"\u001b[39m\u001b[39mKorean_stock_prac\u001b[39m\u001b[39m\"\u001b[39m)\u001b[39m.\u001b[39mgetOrCreate()\n\u001b[1;32m      <a href='vscode-notebook-cell://wsl%2Bubuntu-20.04/home/steve/Capstone2/Korean_data_spark.ipynb#W2sdnNjb2RlLXJlbW90ZQ%3D%3D?line=6'>7</a>\u001b[0m directory \u001b[39m=\u001b[39m \u001b[39m\"\u001b[39m\u001b[39m/home/steve/Capstone2/Korean_stock/Korean_stock_data\u001b[39m\u001b[39m\"\u001b[39m\n\u001b[0;32m----> <a href='vscode-notebook-cell://wsl%2Bubuntu-20.04/home/steve/Capstone2/Korean_data_spark.ipynb#W2sdnNjb2RlLXJlbW90ZQ%3D%3D?line=7'>8</a>\u001b[0m \u001b[39mfor\u001b[39;00m (root, directories, files) \u001b[39min\u001b[39;00m os\u001b[39m.\u001b[39mwalk(dir_path):\n\u001b[1;32m      <a href='vscode-notebook-cell://wsl%2Bubuntu-20.04/home/steve/Capstone2/Korean_data_spark.ipynb#W2sdnNjb2RlLXJlbW90ZQ%3D%3D?line=8'>9</a>\u001b[0m         \u001b[39mfor\u001b[39;00m d \u001b[39min\u001b[39;00m directories:\n\u001b[1;32m     <a href='vscode-notebook-cell://wsl%2Bubuntu-20.04/home/steve/Capstone2/Korean_data_spark.ipynb#W2sdnNjb2RlLXJlbW90ZQ%3D%3D?line=9'>10</a>\u001b[0m             d_path \u001b[39m=\u001b[39m os\u001b[39m.\u001b[39mpath\u001b[39m.\u001b[39mjoin(root, d)\n",
      "\u001b[0;31mNameError\u001b[0m: name 'dir_path' is not defined"
     ]
    }
   ],
   "source": [
    "from pyspark.sql import SparkSession\n",
    "# import pandas as pd\n",
    "import os\n",
    "\n",
    "spark = SparkSession.builder.appName(\"Korean_stock_prac\").getOrCreate()\n",
    "\n",
    "directory = \"/home/steve/Capstone2/Korean_stock/Korean_stock_data\"\n",
    "for (root, directories, files) in os.walk(dir_path):\n",
    "        for d in directories:\n",
    "            d_path = os.path.join(root, d)\n",
    "            print(d_path)\n",
    "\n",
    "        for filename in files:\n",
    "            print(filename)\n",
    "            # file_path = os.path.join(root, file)\n",
    "            # print(file_path)\n",
    "            # print(file)\n",
    "            # data = spark.read.csv(f\"file:///{directory}/{filename}\", inferSchema = True, header = True)\n",
    "            # data.show(1)"
   ]
  },
  {
   "cell_type": "code",
   "execution_count": 1,
   "metadata": {},
   "outputs": [
    {
     "name": "stdout",
     "output_type": "stream",
     "text": [
      "22/11/08 16:11:15 WARN Utils: Your hostname, LAPTOP-PAHAQHCQ resolves to a loopback address: 127.0.1.1; using 172.20.6.248 instead (on interface eth0)\n",
      "22/11/08 16:11:15 WARN Utils: Set SPARK_LOCAL_IP if you need to bind to another address\n"
     ]
    },
    {
     "name": "stderr",
     "output_type": "stream",
     "text": [
      "Setting default log level to \"WARN\".\n",
      "To adjust logging level use sc.setLogLevel(newLevel). For SparkR, use setLogLevel(newLevel).\n"
     ]
    },
    {
     "name": "stdout",
     "output_type": "stream",
     "text": [
      "22/11/08 16:11:16 WARN NativeCodeLoader: Unable to load native-hadoop library for your platform... using builtin-java classes where applicable\n"
     ]
    }
   ],
   "source": [
    "from pyspark.sql import SparkSession\n",
    "# import pandas as pd\n",
    "import os\n",
    "\n",
    "spark = SparkSession.builder.appName(\"Korean_data_prac\").getOrCreate()\n",
    "\n",
    "directory = \"/home/steve/Capstone2/Korean_stock/Korean_stock_data\"\n",
    "filename = \"DL.csv\"\n",
    "data = spark.read.csv(f\"file:///{directory}/{filename}\", inferSchema = True, header = True)"
   ]
  },
  {
   "cell_type": "code",
   "execution_count": 28,
   "metadata": {},
   "outputs": [
    {
     "name": "stdout",
     "output_type": "stream",
     "text": [
      "Where there is a will there is a way <class 'str'>\n"
     ]
    }
   ],
   "source": [
    "text = \"Where there is a will there is a way의 의미는 뜻이 있는 곳엔 길이 있다이다\"\n",
    "f[0] = f[0].encode('utf-8').decode('ascii', 'ignore')\n",
    "f[0] = f[0].strip()\n",
    "print(text, type(text))"
   ]
  },
  {
   "cell_type": "code",
   "execution_count": 18,
   "metadata": {},
   "outputs": [
    {
     "name": "stdout",
     "output_type": "stream",
     "text": [
      "+-------------------+-------+-------+-------+-------+------------+------+\n",
      "|               Date|   Open|   High|    Low|  Close|   Adj Close|Volume|\n",
      "+-------------------+-------+-------+-------+-------+------------+------+\n",
      "|2020-01-02 00:00:00|90600.0|90700.0|87600.0|87800.0|83818.351563|134537|\n",
      "|2020-01-03 00:00:00|87800.0|88700.0|87400.0|87800.0|83818.351563|101282|\n",
      "|2020-01-06 00:00:00|87000.0|87400.0|83500.0|84100.0|80286.140625|235620|\n",
      "|2020-01-07 00:00:00|85000.0|86000.0|83500.0|85200.0|81336.257813|146068|\n",
      "|2020-01-08 00:00:00|83700.0|84100.0|81500.0|82600.0|78854.171875|172508|\n",
      "+-------------------+-------+-------+-------+-------+------------+------+\n",
      "only showing top 5 rows\n",
      "\n"
     ]
    }
   ],
   "source": [
    "data_df.show(5)"
   ]
  },
  {
   "cell_type": "code",
   "execution_count": 8,
   "metadata": {},
   "outputs": [
    {
     "name": "stdout",
     "output_type": "stream",
     "text": [
      "+-------+-------+-------+-------+--------+-------------+\n",
      "|   High|    Low|   Open|  Close|  Volume|    Adj Close|\n",
      "+-------+-------+-------+-------+--------+-------------+\n",
      "|87300.0|83400.0|83500.0|87000.0|383103.0|75170.1796875|\n",
      "|91300.0|86500.0|89000.0|89500.0|613273.0|77330.2421875|\n",
      "|91200.0|88100.0|89500.0|88700.0|193552.0|76639.0234375|\n",
      "|93200.0|89100.0|89100.0|92000.0|355859.0|79490.3046875|\n",
      "|92500.0|90400.0|91500.0|92500.0|144868.0|79922.3203125|\n",
      "+-------+-------+-------+-------+--------+-------------+\n",
      "only showing top 5 rows\n",
      "\n"
     ]
    }
   ],
   "source": [
    "data.show(5)"
   ]
  },
  {
   "cell_type": "code",
   "execution_count": 12,
   "metadata": {},
   "outputs": [
    {
     "name": "stdout",
     "output_type": "stream",
     "text": [
      "DL\n"
     ]
    }
   ],
   "source": [
    "f = filename.split('.')\n",
    "print(f[0])"
   ]
  },
  {
   "cell_type": "code",
   "execution_count": 13,
   "metadata": {},
   "outputs": [],
   "source": [
    "data.createOrReplaceTempView(f[0])"
   ]
  },
  {
   "cell_type": "code",
   "execution_count": 14,
   "metadata": {},
   "outputs": [
    {
     "name": "stdout",
     "output_type": "stream",
     "text": [
      "+-------+\n",
      "|   HIGH|\n",
      "+-------+\n",
      "|87300.0|\n",
      "|91300.0|\n",
      "|91200.0|\n",
      "|93200.0|\n",
      "|92500.0|\n",
      "|92900.0|\n",
      "|91400.0|\n",
      "|88700.0|\n",
      "|87000.0|\n",
      "|85500.0|\n",
      "|83000.0|\n",
      "|83600.0|\n",
      "|84300.0|\n",
      "|82300.0|\n",
      "|82100.0|\n",
      "|82800.0|\n",
      "|82000.0|\n",
      "|81900.0|\n",
      "|84000.0|\n",
      "|84600.0|\n",
      "+-------+\n",
      "only showing top 20 rows\n",
      "\n"
     ]
    }
   ],
   "source": [
    "spark.sql(f\"SELECT HIGH FROM {f[0]}\").show()"
   ]
  }
 ],
 "metadata": {
  "kernelspec": {
   "display_name": "Python 3.8.10 64-bit",
   "language": "python",
   "name": "python3"
  },
  "language_info": {
   "codemirror_mode": {
    "name": "ipython",
    "version": 3
   },
   "file_extension": ".py",
   "mimetype": "text/x-python",
   "name": "python",
   "nbconvert_exporter": "python",
   "pygments_lexer": "ipython3",
   "version": "3.8.10"
  },
  "orig_nbformat": 4,
  "vscode": {
   "interpreter": {
    "hash": "916dbcbb3f70747c44a77c7bcd40155683ae19c65e1c03b4aa3499c5328201f1"
   }
  }
 },
 "nbformat": 4,
 "nbformat_minor": 2
}
