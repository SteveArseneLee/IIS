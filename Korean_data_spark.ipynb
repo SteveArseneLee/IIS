{
 "cells": [
  {
   "cell_type": "code",
   "execution_count": 1,
   "metadata": {},
   "outputs": [
    {
     "name": "stdout",
     "output_type": "stream",
     "text": [
      "HDC현대산업개발.csv\n",
      "LX하우시스.csv\n",
      "DL.csv\n",
      "LG이노텍.csv\n",
      "LG헬로비전.csv\n",
      "KSS해운.csv\n",
      "MH에탄올.csv\n",
      "KTis.csv\n",
      "DRB동일.csv\n",
      "GS.csv\n",
      "DSR.csv\n",
      "LX홀딩스.csv\n",
      "KPX케미칼.csv\n",
      "OCI.csv\n",
      "KG케미칼.csv\n"
     ]
    }
   ],
   "source": [
    "import os\n",
    "\n",
    "dir_path = \"/home/steve/Capstone2/Korean_stock/Korean_stock_data\"\n",
    "\n",
    "for (root, directories, files) in os.walk(dir_path):\n",
    "    for d in directories:\n",
    "        d_path = os.path.join(root, d)\n",
    "        print(d_path)\n",
    "\n",
    "    for file in files:\n",
    "        # file_path = os.path.join(root, file)\n",
    "        # print(file_path)\n",
    "        print(file)"
   ]
  },
  {
   "cell_type": "code",
   "execution_count": null,
   "metadata": {},
   "outputs": [],
   "source": [
    "def files():\n",
    "    for (root, directories, files) in os.walk(dir_path):\n",
    "        for d in directories:\n",
    "            d_path = os.path.join(root, d)\n",
    "            print(d_path)\n",
    "\n",
    "        for file in files:\n",
    "            # file_path = os.path.join(root, file)\n",
    "            # print(file_path)\n",
    "            print(file)"
   ]
  },
  {
   "cell_type": "code",
   "execution_count": 4,
   "metadata": {},
   "outputs": [
    {
     "name": "stdout",
     "output_type": "stream",
     "text": [
      "+-------------+-------------+------------+------------+---------+--------------+\n",
      "|         High|          Low|        Open|       Close|   Volume|     Adj Close|\n",
      "+-------------+-------------+------------+------------+---------+--------------+\n",
      "|72116.4765625|63044.0546875|69987.234375|69987.234375|3765328.0|64702.10546875|\n",
      "+-------------+-------------+------------+------------+---------+--------------+\n",
      "only showing top 1 row\n",
      "\n",
      "+-------+-------+-------+-------+-------+-----------+\n",
      "|   High|    Low|   Open|  Close| Volume|  Adj Close|\n",
      "+-------+-------+-------+-------+-------+-----------+\n",
      "|92000.0|90700.0|90800.0|91400.0|28422.0|88119.40625|\n",
      "+-------+-------+-------+-------+-------+-----------+\n",
      "only showing top 1 row\n",
      "\n",
      "+-------+-------+-------+-------+--------+-------------+\n",
      "|   High|    Low|   Open|  Close|  Volume|    Adj Close|\n",
      "+-------+-------+-------+-------+--------+-------------+\n",
      "|87300.0|83400.0|83500.0|87000.0|383103.0|75170.1796875|\n",
      "+-------+-------+-------+-------+--------+-------------+\n",
      "only showing top 1 row\n",
      "\n",
      "+--------+--------+--------+--------+--------+-------------+\n",
      "|    High|     Low|    Open|   Close|  Volume|    Adj Close|\n",
      "+--------+--------+--------+--------+--------+-------------+\n",
      "|177500.0|172000.0|176500.0|174000.0|173892.0|170569.984375|\n",
      "+--------+--------+--------+--------+--------+-------------+\n",
      "only showing top 1 row\n",
      "\n",
      "+------+------+------+------+--------+---------------+\n",
      "|  High|   Low|  Open| Close|  Volume|      Adj Close|\n",
      "+------+------+------+------+--------+---------------+\n",
      "|7180.0|6950.0|7120.0|6980.0|356336.0|6500.7080078125|\n",
      "+------+------+------+------+--------+---------------+\n",
      "only showing top 1 row\n",
      "\n",
      "+------+------+------+------+-------+----------------+\n",
      "|  High|   Low|  Open| Close| Volume|       Adj Close|\n",
      "+------+------+------+------+-------+----------------+\n",
      "|9660.0|9360.0|9660.0|9370.0|40075.0|8027.65966796875|\n",
      "+------+------+------+------+-------+----------------+\n",
      "only showing top 1 row\n",
      "\n",
      "+------+------+------+------+-------+----------------+\n",
      "|  High|   Low|  Open| Close| Volume|       Adj Close|\n",
      "+------+------+------+------+-------+----------------+\n",
      "|6370.0|6320.0|6340.0|6330.0|18240.0|4927.78662109375|\n",
      "+------+------+------+------+-------+----------------+\n",
      "only showing top 1 row\n",
      "\n",
      "+------+------+------+------+-------+-----------------+\n",
      "|  High|   Low|  Open| Close| Volume|        Adj Close|\n",
      "+------+------+------+------+-------+-----------------+\n",
      "|3040.0|2990.0|3010.0|3000.0|88356.0|2534.292236328125|\n",
      "+------+------+------+------+-------+-----------------+\n",
      "only showing top 1 row\n",
      "\n",
      "+---------------+----------------+---------------+---------------+-------+---------------+\n",
      "|           High|             Low|           Open|          Close| Volume|      Adj Close|\n",
      "+---------------+----------------+---------------+---------------+-------+---------------+\n",
      "|8223.0849609375|8070.80517578125|8223.0849609375|8213.5673828125|18809.0|7718.9599609375|\n",
      "+---------------+----------------+---------------+---------------+-------+---------------+\n",
      "only showing top 1 row\n",
      "\n",
      "+-------+-------+-------+-------+--------+--------------+\n",
      "|   High|    Low|   Open|  Close|  Volume|     Adj Close|\n",
      "+-------+-------+-------+-------+--------+--------------+\n",
      "|66400.0|65600.0|66200.0|65700.0|126267.0|53582.79296875|\n",
      "+-------+-------+-------+-------+--------+--------------+\n",
      "only showing top 1 row\n",
      "\n",
      "+------+------+------+------+-------+----------------+\n",
      "|  High|   Low|  Open| Close| Volume|       Adj Close|\n",
      "+------+------+------+------+-------+----------------+\n",
      "|5560.0|5400.0|5500.0|5420.0|60426.0|5148.22998046875|\n",
      "+------+------+------+------+-------+----------------+\n",
      "only showing top 1 row\n",
      "\n",
      "+-----+-----+-----+-----+--------+---------+\n",
      "| High|  Low| Open|Close|  Volume|Adj Close|\n",
      "+-----+-----+-----+-----+--------+---------+\n",
      "|14300|12000|12650|12000|11609074|    12000|\n",
      "+-----+-----+-----+-----+--------+---------+\n",
      "only showing top 1 row\n",
      "\n",
      "+-------+-------+-------+-------+------+-----------+\n",
      "|   High|    Low|   Open|  Close|Volume|  Adj Close|\n",
      "+-------+-------+-------+-------+------+-----------+\n",
      "|76600.0|74600.0|76300.0|76500.0|1752.0|61829.59375|\n",
      "+-------+-------+-------+-------+------+-----------+\n",
      "only showing top 1 row\n",
      "\n",
      "+--------+--------+--------+--------+--------+--------------+\n",
      "|    High|     Low|    Open|   Close|  Volume|     Adj Close|\n",
      "+--------+--------+--------+--------+--------+--------------+\n",
      "|125500.0|120000.0|123000.0|121000.0|736394.0|115923.2578125|\n",
      "+--------+--------+--------+--------+--------+--------------+\n",
      "only showing top 1 row\n",
      "\n",
      "+-------+-------+-------+-------+--------+---------------+\n",
      "|   High|    Low|   Open|  Close|  Volume|      Adj Close|\n",
      "+-------+-------+-------+-------+--------+---------------+\n",
      "|17300.0|16350.0|16750.0|17200.0|238551.0|15571.876953125|\n",
      "+-------+-------+-------+-------+--------+---------------+\n",
      "only showing top 1 row\n",
      "\n"
     ]
    }
   ],
   "source": [
    "from pyspark.sql import SparkSession\n",
    "# import pandas as pd\n",
    "import os\n",
    "\n",
    "spark = SparkSession.builder.appName(\"Korean_data_prac\").getOrCreate()\n",
    "\n",
    "directory = \"/home/steve/Capstone2/Korean_stock/Korean_stock_data\"\n",
    "for (root, directories, files) in os.walk(dir_path):\n",
    "        for d in directories:\n",
    "            d_path = os.path.join(root, d)\n",
    "            print(d_path)\n",
    "\n",
    "        for filename in files:\n",
    "            # file_path = os.path.join(root, file)\n",
    "            # print(file_path)\n",
    "            # print(file)\n",
    "            data = spark.read.csv(f\"file:///{directory}/{filename}\", inferSchema = True, header = True)\n",
    "            data.show(1)"
   ]
  },
  {
   "cell_type": "code",
   "execution_count": 7,
   "metadata": {},
   "outputs": [],
   "source": [
    "from pyspark.sql import SparkSession\n",
    "# import pandas as pd\n",
    "import os\n",
    "\n",
    "spark = SparkSession.builder.appName(\"Korean_data_prac\").getOrCreate()\n",
    "\n",
    "directory = \"/home/steve/Capstone2/Korean_stock/Korean_stock_data\"\n",
    "filename = \"DL.csv\"\n",
    "data = spark.read.csv(f\"file:///{directory}/{filename}\", inferSchema = True, header = True)"
   ]
  },
  {
   "cell_type": "code",
   "execution_count": 8,
   "metadata": {},
   "outputs": [
    {
     "name": "stdout",
     "output_type": "stream",
     "text": [
      "+-------+-------+-------+-------+--------+-------------+\n",
      "|   High|    Low|   Open|  Close|  Volume|    Adj Close|\n",
      "+-------+-------+-------+-------+--------+-------------+\n",
      "|87300.0|83400.0|83500.0|87000.0|383103.0|75170.1796875|\n",
      "|91300.0|86500.0|89000.0|89500.0|613273.0|77330.2421875|\n",
      "|91200.0|88100.0|89500.0|88700.0|193552.0|76639.0234375|\n",
      "|93200.0|89100.0|89100.0|92000.0|355859.0|79490.3046875|\n",
      "|92500.0|90400.0|91500.0|92500.0|144868.0|79922.3203125|\n",
      "+-------+-------+-------+-------+--------+-------------+\n",
      "only showing top 5 rows\n",
      "\n"
     ]
    }
   ],
   "source": [
    "data.show(5)"
   ]
  },
  {
   "cell_type": "code",
   "execution_count": 12,
   "metadata": {},
   "outputs": [
    {
     "name": "stdout",
     "output_type": "stream",
     "text": [
      "DL\n"
     ]
    }
   ],
   "source": [
    "f = filename.split('.')\n",
    "print(f[0])"
   ]
  },
  {
   "cell_type": "code",
   "execution_count": 13,
   "metadata": {},
   "outputs": [],
   "source": [
    "data.createOrReplaceTempView(f[0])"
   ]
  },
  {
   "cell_type": "code",
   "execution_count": 14,
   "metadata": {},
   "outputs": [
    {
     "name": "stdout",
     "output_type": "stream",
     "text": [
      "+-------+\n",
      "|   HIGH|\n",
      "+-------+\n",
      "|87300.0|\n",
      "|91300.0|\n",
      "|91200.0|\n",
      "|93200.0|\n",
      "|92500.0|\n",
      "|92900.0|\n",
      "|91400.0|\n",
      "|88700.0|\n",
      "|87000.0|\n",
      "|85500.0|\n",
      "|83000.0|\n",
      "|83600.0|\n",
      "|84300.0|\n",
      "|82300.0|\n",
      "|82100.0|\n",
      "|82800.0|\n",
      "|82000.0|\n",
      "|81900.0|\n",
      "|84000.0|\n",
      "|84600.0|\n",
      "+-------+\n",
      "only showing top 20 rows\n",
      "\n"
     ]
    }
   ],
   "source": [
    "spark.sql(f\"SELECT HIGH FROM {f[0]}\").show()"
   ]
  }
 ],
 "metadata": {
  "kernelspec": {
   "display_name": "Python 3.8.10 64-bit",
   "language": "python",
   "name": "python3"
  },
  "language_info": {
   "codemirror_mode": {
    "name": "ipython",
    "version": 3
   },
   "file_extension": ".py",
   "mimetype": "text/x-python",
   "name": "python",
   "nbconvert_exporter": "python",
   "pygments_lexer": "ipython3",
   "version": "3.8.10"
  },
  "orig_nbformat": 4,
  "vscode": {
   "interpreter": {
    "hash": "916dbcbb3f70747c44a77c7bcd40155683ae19c65e1c03b4aa3499c5328201f1"
   }
  }
 },
 "nbformat": 4,
 "nbformat_minor": 2
}
